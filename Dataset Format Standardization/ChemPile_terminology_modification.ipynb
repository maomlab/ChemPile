{
 "cells": [
  {
   "cell_type": "code",
   "execution_count": 3,
   "metadata": {},
   "outputs": [],
   "source": [
    "# This is a script to \n",
    "# 1. Unify 'SMILES', 'smiles', 'Smiles' into 'SMILES'\n",
    "# 2. Differentiate 'external' and 'validation' datasets\n",
    "# 3. Use snake case for identifiers except for acronyms (ex)substance_id'\n",
    "# 3. Call 'substance' instead of 'compound'\n",
    "# 4. Prefer 'substance' to 'compound'\n",
    "# 5. Ensure every measurement has 'substance_id' (no blanks)\n",
    "# 6. Add a new column for IDs (ex) B3DB_1, B3DB_2\n",
    "\n",
    "\n",
    "import pandas as pd\n",
    "import os"
   ]
  },
  {
   "cell_type": "code",
   "execution_count": 7,
   "metadata": {},
   "outputs": [],
   "source": [
    "path = '/Users/parkhaneul/Library/Mobile Documents/com~apple~CloudDocs/Career/Maom Lab/ChemPile/Mutagenlou2023'"
   ]
  },
  {
   "cell_type": "code",
   "execution_count": 8,
   "metadata": {},
   "outputs": [],
   "source": [
    "def SMILES(df):\n",
    "    df.rename(columns = {'smiles' : 'SMILES', 'Smiles' : 'SMILES'})"
   ]
  },
  {
   "cell_type": "code",
   "execution_count": null,
   "metadata": {},
   "outputs": [],
   "source": []
  }
 ],
 "metadata": {
  "kernelspec": {
   "display_name": "base",
   "language": "python",
   "name": "python3"
  },
  "language_info": {
   "codemirror_mode": {
    "name": "ipython",
    "version": 3
   },
   "file_extension": ".py",
   "mimetype": "text/x-python",
   "name": "python",
   "nbconvert_exporter": "python",
   "pygments_lexer": "ipython3",
   "version": "3.11.7"
  }
 },
 "nbformat": 4,
 "nbformat_minor": 2
}
